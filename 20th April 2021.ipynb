{
 "cells": [
  {
   "cell_type": "markdown",
   "metadata": {},
   "source": [
    "- git --version\n",
    "- git config user.name\n",
    "- git config user.email\n",
    "\n",
    "**Create configuration(username and email)**\n",
    "- git config --global user.name \"AmbikaPuvvula\"\n",
    "- git config --global user.email \"ambikapuvvula@gmail.com\"\n"
   ]
  }
 ],
 "metadata": {
  "kernelspec": {
   "display_name": "Python 3",
   "language": "python",
   "name": "python3"
  },
  "language_info": {
   "codemirror_mode": {
    "name": "ipython",
    "version": 3
   },
   "file_extension": ".py",
   "mimetype": "text/x-python",
   "name": "python",
   "nbconvert_exporter": "python",
   "pygments_lexer": "ipython3",
   "version": "3.7.1"
  }
 },
 "nbformat": 4,
 "nbformat_minor": 2
}
